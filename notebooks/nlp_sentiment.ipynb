{
 "cells": [
  {
   "cell_type": "code",
   "execution_count": 5,
   "id": "0ae28959",
   "metadata": {},
   "outputs": [],
   "source": [
    "#!pip install nltk\n"
   ]
  },
  {
   "cell_type": "code",
   "execution_count": 14,
   "id": "28525ead",
   "metadata": {},
   "outputs": [
    {
     "name": "stderr",
     "output_type": "stream",
     "text": [
      "[nltk_data] Downloading package stopwords to\n",
      "[nltk_data]     C:\\Users\\nmako\\AppData\\Roaming\\nltk_data...\n",
      "[nltk_data]   Package stopwords is already up-to-date!\n"
     ]
    }
   ],
   "source": [
    "\n",
    "import pandas as pd\n",
    "import numpy as np\n",
    "import re\n",
    "import string\n",
    "\n",
    "from sklearn.model_selection import train_test_split\n",
    "from sklearn.feature_extraction.text import TfidfVectorizer\n",
    "from sklearn.linear_model import LogisticRegression\n",
    "from sklearn.metrics import classification_report, confusion_matrix\n",
    "import seaborn as sns\n",
    "import matplotlib.pyplot as plt\n",
    "\n",
    "import nltk\n",
    "nltk.download('stopwords')\n",
    "from nltk.corpus import stopwords\n",
    "stop_words = set(stopwords.words('french'))\n",
    "import unicodedata\n",
    "\n"
   ]
  },
  {
   "cell_type": "code",
   "execution_count": 8,
   "id": "00d0ff1c",
   "metadata": {},
   "outputs": [
    {
     "data": {
      "application/vnd.microsoft.datawrangler.viewer.v0+json": {
       "columns": [
        {
         "name": "index",
         "rawType": "int64",
         "type": "integer"
        },
        {
         "name": "avis",
         "rawType": "object",
         "type": "string"
        },
        {
         "name": "sentiment",
         "rawType": "object",
         "type": "string"
        }
       ],
       "ref": "9c2f8e9d-5e9a-438d-b6a5-ad968f18c31f",
       "rows": [
        [
         "0",
         "Le service client est excellent, je suis très satisfait",
         "positif"
        ],
        [
         "1",
         "Le taux d'intérêt est trop élevé",
         "negatif"
        ],
        [
         "2",
         "J'adore cette banque, toujours rapide et efficace",
         "positif"
        ],
        [
         "3",
         "Le site internet est lent et plante souvent",
         "negatif"
        ],
        [
         "4",
         "Merci pour votre réactivité lors de ma demande de prêt",
         "positif"
        ],
        [
         "5",
         "Je suis déçu, le conseiller n’a pas répondu à mes emails",
         "negatif"
        ],
        [
         "6",
         "Application mobile claire et facile à utiliser",
         "positif"
        ],
        [
         "7",
         "Aucune transparence sur les frais, très frustrant",
         "negatif"
        ],
        [
         "8",
         "Je recommande cette banque à mes amis",
         "positif"
        ],
        [
         "9",
         "Temps d’attente interminable au guichet",
         "negatif"
        ],
        [
         "10",
         "Les conseillers sont aimables et compétents",
         "positif"
        ],
        [
         "11",
         "Je trouve vos services acceptables mais sans plus",
         "neutre"
        ]
       ],
       "shape": {
        "columns": 2,
        "rows": 12
       }
      },
      "text/html": [
       "<div>\n",
       "<style scoped>\n",
       "    .dataframe tbody tr th:only-of-type {\n",
       "        vertical-align: middle;\n",
       "    }\n",
       "\n",
       "    .dataframe tbody tr th {\n",
       "        vertical-align: top;\n",
       "    }\n",
       "\n",
       "    .dataframe thead th {\n",
       "        text-align: right;\n",
       "    }\n",
       "</style>\n",
       "<table border=\"1\" class=\"dataframe\">\n",
       "  <thead>\n",
       "    <tr style=\"text-align: right;\">\n",
       "      <th></th>\n",
       "      <th>avis</th>\n",
       "      <th>sentiment</th>\n",
       "    </tr>\n",
       "  </thead>\n",
       "  <tbody>\n",
       "    <tr>\n",
       "      <th>0</th>\n",
       "      <td>Le service client est excellent, je suis très ...</td>\n",
       "      <td>positif</td>\n",
       "    </tr>\n",
       "    <tr>\n",
       "      <th>1</th>\n",
       "      <td>Le taux d'intérêt est trop élevé</td>\n",
       "      <td>negatif</td>\n",
       "    </tr>\n",
       "    <tr>\n",
       "      <th>2</th>\n",
       "      <td>J'adore cette banque, toujours rapide et efficace</td>\n",
       "      <td>positif</td>\n",
       "    </tr>\n",
       "    <tr>\n",
       "      <th>3</th>\n",
       "      <td>Le site internet est lent et plante souvent</td>\n",
       "      <td>negatif</td>\n",
       "    </tr>\n",
       "    <tr>\n",
       "      <th>4</th>\n",
       "      <td>Merci pour votre réactivité lors de ma demande...</td>\n",
       "      <td>positif</td>\n",
       "    </tr>\n",
       "    <tr>\n",
       "      <th>5</th>\n",
       "      <td>Je suis déçu, le conseiller n’a pas répondu à ...</td>\n",
       "      <td>negatif</td>\n",
       "    </tr>\n",
       "    <tr>\n",
       "      <th>6</th>\n",
       "      <td>Application mobile claire et facile à utiliser</td>\n",
       "      <td>positif</td>\n",
       "    </tr>\n",
       "    <tr>\n",
       "      <th>7</th>\n",
       "      <td>Aucune transparence sur les frais, très frustrant</td>\n",
       "      <td>negatif</td>\n",
       "    </tr>\n",
       "    <tr>\n",
       "      <th>8</th>\n",
       "      <td>Je recommande cette banque à mes amis</td>\n",
       "      <td>positif</td>\n",
       "    </tr>\n",
       "    <tr>\n",
       "      <th>9</th>\n",
       "      <td>Temps d’attente interminable au guichet</td>\n",
       "      <td>negatif</td>\n",
       "    </tr>\n",
       "    <tr>\n",
       "      <th>10</th>\n",
       "      <td>Les conseillers sont aimables et compétents</td>\n",
       "      <td>positif</td>\n",
       "    </tr>\n",
       "    <tr>\n",
       "      <th>11</th>\n",
       "      <td>Je trouve vos services acceptables mais sans plus</td>\n",
       "      <td>neutre</td>\n",
       "    </tr>\n",
       "  </tbody>\n",
       "</table>\n",
       "</div>"
      ],
      "text/plain": [
       "                                                 avis sentiment\n",
       "0   Le service client est excellent, je suis très ...   positif\n",
       "1                    Le taux d'intérêt est trop élevé   negatif\n",
       "2   J'adore cette banque, toujours rapide et efficace   positif\n",
       "3         Le site internet est lent et plante souvent   negatif\n",
       "4   Merci pour votre réactivité lors de ma demande...   positif\n",
       "5   Je suis déçu, le conseiller n’a pas répondu à ...   negatif\n",
       "6      Application mobile claire et facile à utiliser   positif\n",
       "7   Aucune transparence sur les frais, très frustrant   negatif\n",
       "8               Je recommande cette banque à mes amis   positif\n",
       "9             Temps d’attente interminable au guichet   negatif\n",
       "10        Les conseillers sont aimables et compétents   positif\n",
       "11  Je trouve vos services acceptables mais sans plus    neutre"
      ]
     },
     "execution_count": 8,
     "metadata": {},
     "output_type": "execute_result"
    }
   ],
   "source": [
    "data = {\n",
    "    \"avis\": [\n",
    "        \"Le service client est excellent, je suis très satisfait\",\n",
    "        \"Le taux d'intérêt est trop élevé\",\n",
    "        \"J'adore cette banque, toujours rapide et efficace\",\n",
    "        \"Le site internet est lent et plante souvent\",\n",
    "        \"Merci pour votre réactivité lors de ma demande de prêt\",\n",
    "        \"Je suis déçu, le conseiller n’a pas répondu à mes emails\",\n",
    "        \"Application mobile claire et facile à utiliser\",\n",
    "        \"Aucune transparence sur les frais, très frustrant\",\n",
    "        \"Je recommande cette banque à mes amis\",\n",
    "        \"Temps d’attente interminable au guichet\",\n",
    "        \"Les conseillers sont aimables et compétents\",\n",
    "        \"Je trouve vos services acceptables mais sans plus\"\n",
    "    ],\n",
    "    \"sentiment\": [\n",
    "        \"positif\", \"negatif\", \"positif\", \"negatif\", \"positif\", \n",
    "        \"negatif\", \"positif\", \"negatif\", \"positif\", \"negatif\", \n",
    "        \"positif\", \"neutre\"\n",
    "    ]\n",
    "}\n",
    "\n",
    "df = pd.DataFrame(data)\n",
    "df"
   ]
  },
  {
   "cell_type": "code",
   "execution_count": 25,
   "id": "3917ff11",
   "metadata": {},
   "outputs": [
    {
     "data": {
      "application/vnd.microsoft.datawrangler.viewer.v0+json": {
       "columns": [
        {
         "name": "index",
         "rawType": "int64",
         "type": "integer"
        },
        {
         "name": "avis",
         "rawType": "object",
         "type": "string"
        },
        {
         "name": "sentiment",
         "rawType": "object",
         "type": "string"
        },
        {
         "name": "avis_nettoye",
         "rawType": "object",
         "type": "string"
        }
       ],
       "ref": "d876a417-61b5-4675-a1c3-b8ddabfa1467",
       "rows": [
        [
         "0",
         "Le service client est excellent, je suis très satisfait",
         "positif",
         "service client excellent tres satisfait"
        ],
        [
         "1",
         "Le taux d'intérêt est trop élevé",
         "negatif",
         "taux dinteret trop eleve"
        ],
        [
         "2",
         "J'adore cette banque, toujours rapide et efficace",
         "positif",
         "jadore cette banque toujours rapide efficace"
        ],
        [
         "3",
         "Le site internet est lent et plante souvent",
         "negatif",
         "site internet lent plante souvent"
        ],
        [
         "4",
         "Merci pour votre réactivité lors de ma demande de prêt",
         "positif",
         "merci reactivite lors demande pret"
        ],
        [
         "5",
         "Je suis déçu, le conseiller n’a pas répondu à mes emails",
         "negatif",
         "decu conseiller na repondu emails"
        ],
        [
         "6",
         "Application mobile claire et facile à utiliser",
         "positif",
         "application mobile claire facile utiliser"
        ],
        [
         "7",
         "Aucune transparence sur les frais, très frustrant",
         "negatif",
         "aucune transparence frais tres frustrant"
        ],
        [
         "8",
         "Je recommande cette banque à mes amis",
         "positif",
         "recommande cette banque amis"
        ],
        [
         "9",
         "Temps d’attente interminable au guichet",
         "negatif",
         "temps dattente interminable guichet"
        ],
        [
         "10",
         "Les conseillers sont aimables et compétents",
         "positif",
         "conseillers aimables competents"
        ],
        [
         "11",
         "Je trouve vos services acceptables mais sans plus",
         "neutre",
         "trouve services acceptables sans plus"
        ]
       ],
       "shape": {
        "columns": 3,
        "rows": 12
       }
      },
      "text/html": [
       "<div>\n",
       "<style scoped>\n",
       "    .dataframe tbody tr th:only-of-type {\n",
       "        vertical-align: middle;\n",
       "    }\n",
       "\n",
       "    .dataframe tbody tr th {\n",
       "        vertical-align: top;\n",
       "    }\n",
       "\n",
       "    .dataframe thead th {\n",
       "        text-align: right;\n",
       "    }\n",
       "</style>\n",
       "<table border=\"1\" class=\"dataframe\">\n",
       "  <thead>\n",
       "    <tr style=\"text-align: right;\">\n",
       "      <th></th>\n",
       "      <th>avis</th>\n",
       "      <th>sentiment</th>\n",
       "      <th>avis_nettoye</th>\n",
       "    </tr>\n",
       "  </thead>\n",
       "  <tbody>\n",
       "    <tr>\n",
       "      <th>0</th>\n",
       "      <td>Le service client est excellent, je suis très ...</td>\n",
       "      <td>positif</td>\n",
       "      <td>service client excellent tres satisfait</td>\n",
       "    </tr>\n",
       "    <tr>\n",
       "      <th>1</th>\n",
       "      <td>Le taux d'intérêt est trop élevé</td>\n",
       "      <td>negatif</td>\n",
       "      <td>taux dinteret trop eleve</td>\n",
       "    </tr>\n",
       "    <tr>\n",
       "      <th>2</th>\n",
       "      <td>J'adore cette banque, toujours rapide et efficace</td>\n",
       "      <td>positif</td>\n",
       "      <td>jadore cette banque toujours rapide efficace</td>\n",
       "    </tr>\n",
       "    <tr>\n",
       "      <th>3</th>\n",
       "      <td>Le site internet est lent et plante souvent</td>\n",
       "      <td>negatif</td>\n",
       "      <td>site internet lent plante souvent</td>\n",
       "    </tr>\n",
       "    <tr>\n",
       "      <th>4</th>\n",
       "      <td>Merci pour votre réactivité lors de ma demande...</td>\n",
       "      <td>positif</td>\n",
       "      <td>merci reactivite lors demande pret</td>\n",
       "    </tr>\n",
       "    <tr>\n",
       "      <th>5</th>\n",
       "      <td>Je suis déçu, le conseiller n’a pas répondu à ...</td>\n",
       "      <td>negatif</td>\n",
       "      <td>decu conseiller na repondu emails</td>\n",
       "    </tr>\n",
       "    <tr>\n",
       "      <th>6</th>\n",
       "      <td>Application mobile claire et facile à utiliser</td>\n",
       "      <td>positif</td>\n",
       "      <td>application mobile claire facile utiliser</td>\n",
       "    </tr>\n",
       "    <tr>\n",
       "      <th>7</th>\n",
       "      <td>Aucune transparence sur les frais, très frustrant</td>\n",
       "      <td>negatif</td>\n",
       "      <td>aucune transparence frais tres frustrant</td>\n",
       "    </tr>\n",
       "    <tr>\n",
       "      <th>8</th>\n",
       "      <td>Je recommande cette banque à mes amis</td>\n",
       "      <td>positif</td>\n",
       "      <td>recommande cette banque amis</td>\n",
       "    </tr>\n",
       "    <tr>\n",
       "      <th>9</th>\n",
       "      <td>Temps d’attente interminable au guichet</td>\n",
       "      <td>negatif</td>\n",
       "      <td>temps dattente interminable guichet</td>\n",
       "    </tr>\n",
       "    <tr>\n",
       "      <th>10</th>\n",
       "      <td>Les conseillers sont aimables et compétents</td>\n",
       "      <td>positif</td>\n",
       "      <td>conseillers aimables competents</td>\n",
       "    </tr>\n",
       "    <tr>\n",
       "      <th>11</th>\n",
       "      <td>Je trouve vos services acceptables mais sans plus</td>\n",
       "      <td>neutre</td>\n",
       "      <td>trouve services acceptables sans plus</td>\n",
       "    </tr>\n",
       "  </tbody>\n",
       "</table>\n",
       "</div>"
      ],
      "text/plain": [
       "                                                 avis sentiment  \\\n",
       "0   Le service client est excellent, je suis très ...   positif   \n",
       "1                    Le taux d'intérêt est trop élevé   negatif   \n",
       "2   J'adore cette banque, toujours rapide et efficace   positif   \n",
       "3         Le site internet est lent et plante souvent   negatif   \n",
       "4   Merci pour votre réactivité lors de ma demande...   positif   \n",
       "5   Je suis déçu, le conseiller n’a pas répondu à ...   negatif   \n",
       "6      Application mobile claire et facile à utiliser   positif   \n",
       "7   Aucune transparence sur les frais, très frustrant   negatif   \n",
       "8               Je recommande cette banque à mes amis   positif   \n",
       "9             Temps d’attente interminable au guichet   negatif   \n",
       "10        Les conseillers sont aimables et compétents   positif   \n",
       "11  Je trouve vos services acceptables mais sans plus    neutre   \n",
       "\n",
       "                                    avis_nettoye  \n",
       "0        service client excellent tres satisfait  \n",
       "1                       taux dinteret trop eleve  \n",
       "2   jadore cette banque toujours rapide efficace  \n",
       "3              site internet lent plante souvent  \n",
       "4             merci reactivite lors demande pret  \n",
       "5              decu conseiller na repondu emails  \n",
       "6      application mobile claire facile utiliser  \n",
       "7       aucune transparence frais tres frustrant  \n",
       "8                   recommande cette banque amis  \n",
       "9            temps dattente interminable guichet  \n",
       "10               conseillers aimables competents  \n",
       "11         trouve services acceptables sans plus  "
      ]
     },
     "execution_count": 25,
     "metadata": {},
     "output_type": "execute_result"
    }
   ],
   "source": [
    "def nettoyer_texte(text):\n",
    "    text = text.lower()  # minuscule\n",
    "    text = re.sub(r'\\d+', '', text)  # supprimer chiffres\n",
    "    text = text.translate(str.maketrans('', '', string.punctuation))  # supprimer ponctuation\n",
    "    text = \" \".join([word for word in text.split() if word not in stop_words])  # stopwords\n",
    "    text = ''.join(ch for ch in text if ch not in string.punctuation)\n",
    "    text = unicodedata.normalize('NFD', text).encode('ascii', 'ignore').decode('utf-8')  # normalisation unicode\n",
    "    text = re.sub(r\"[^a-z\\s]\", \"\", text) #Supprimer espaces multiples\n",
    "    return text\n",
    "\n",
    "df[\"avis_nettoye\"] = df[\"avis\"].apply(nettoyer_texte)\n",
    "df"
   ]
  }
 ],
 "metadata": {
  "kernelspec": {
   "display_name": "ml_projet",
   "language": "python",
   "name": "python3"
  },
  "language_info": {
   "codemirror_mode": {
    "name": "ipython",
    "version": 3
   },
   "file_extension": ".py",
   "mimetype": "text/x-python",
   "name": "python",
   "nbconvert_exporter": "python",
   "pygments_lexer": "ipython3",
   "version": "3.10.18"
  }
 },
 "nbformat": 4,
 "nbformat_minor": 5
}
