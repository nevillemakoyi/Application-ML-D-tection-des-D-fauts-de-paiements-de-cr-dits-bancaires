{
 "cells": [
  {
   "cell_type": "code",
   "execution_count": 5,
   "id": "b1644e97",
   "metadata": {},
   "outputs": [],
   "source": [
    "# Librairies\n",
    "import pandas as pd\n",
    "import numpy as np\n",
    "import requests\n",
    "import zipfile\n",
    "import os\n",
    "import matplotlib.pyplot as plt\n",
    "import seaborn as sns\n",
    "\n",
    "from sklearn.model_selection import train_test_split\n",
    "from sklearn.preprocessing import OneHotEncoder, StandardScaler\n",
    "from sklearn.compose import ColumnTransformer\n",
    "from sklearn.pipeline import Pipeline\n",
    "from sklearn.ensemble import RandomForestClassifier\n",
    "from sklearn.model_selection import (\n",
    "    GridSearchCV, cross_val_score,\n",
    "    RandomizedSearchCV, cross_validate,\n",
    "    StratifiedKFold\n",
    ")\n",
    "from sklearn import metrics\n",
    "\n",
    "import warnings\n",
    "warnings.filterwarnings('ignore')\n",
    "from pandas_profiling import ProfileReport"
   ]
  },
  {
   "cell_type": "markdown",
   "id": "7c60398d",
   "metadata": {},
   "source": [
    "### Importation des données"
   ]
  },
  {
   "cell_type": "code",
   "execution_count": 15,
   "id": "7140997f",
   "metadata": {},
   "outputs": [],
   "source": [
    "data_path = r'C:\\Users\\nmako\\OneDrive\\Documents\\Data-Science-Projects-Repository\\Machine Learning TP\\Application-ML-Detection-Defauts-Paiements-Credits-Bancaires\\data\\raw\\credit_card_default.csv'\n",
    "data = pd.read_csv(data_path)\n",
    "df = data.copy()\n"
   ]
  },
  {
   "cell_type": "markdown",
   "id": "27d5bc1e",
   "metadata": {},
   "source": [
    "### Analyses Exploratoires des données (EDA)\n"
   ]
  },
  {
   "cell_type": "markdown",
   "id": "4f801f9e",
   "metadata": {},
   "source": [
    "L'analyse exploratoire des données est une étape essentielle, il permet de comprendre les  données, de mettre en évidence des tendances, des relations et des anomalies, et de préparer les données pour la modélisation.\n",
    "Tools : Sweetviz and pandas-profiling"
   ]
  },
  {
   "cell_type": "markdown",
   "id": "8a416735",
   "metadata": {},
   "source": []
  },
  {
   "cell_type": "code",
   "execution_count": null,
   "id": "d6a1c7cb",
   "metadata": {},
   "outputs": [],
   "source": []
  },
  {
   "cell_type": "code",
   "execution_count": null,
   "id": "6b519bb6",
   "metadata": {},
   "outputs": [],
   "source": []
  }
 ],
 "metadata": {
  "kernelspec": {
   "display_name": "ml_projet",
   "language": "python",
   "name": "python3"
  },
  "language_info": {
   "codemirror_mode": {
    "name": "ipython",
    "version": 3
   },
   "file_extension": ".py",
   "mimetype": "text/x-python",
   "name": "python",
   "nbconvert_exporter": "python",
   "pygments_lexer": "ipython3",
   "version": "3.10.18"
  }
 },
 "nbformat": 4,
 "nbformat_minor": 5
}
