{
 "cells": [
  {
   "cell_type": "code",
   "execution_count": 1,
   "id": "b1644e97",
   "metadata": {},
   "outputs": [],
   "source": [
    "# Librairies\n",
    "import pandas as pd\n",
    "import numpy as np\n",
    "import requests\n",
    "import zipfile\n",
    "import os\n",
    "import matplotlib.pyplot as plt\n",
    "import seaborn as sns\n",
    "\n",
    "from sklearn.model_selection import train_test_split\n",
    "from sklearn.preprocessing import OneHotEncoder, StandardScaler\n",
    "from sklearn.compose import ColumnTransformer\n",
    "from sklearn.pipeline import Pipeline\n",
    "from sklearn.ensemble import RandomForestClassifier\n",
    "from sklearn.model_selection import (\n",
    "    GridSearchCV, cross_val_score,\n",
    "    RandomizedSearchCV, cross_validate,\n",
    "    StratifiedKFold\n",
    ")\n",
    "from sklearn import metrics\n",
    "\n",
    "import warnings\n",
    "warnings.filterwarnings('ignore')"
   ]
  },
  {
   "cell_type": "markdown",
   "id": "7c60398d",
   "metadata": {},
   "source": [
    "### Importation des données"
   ]
  },
  {
   "cell_type": "code",
   "execution_count": 8,
   "id": "7140997f",
   "metadata": {},
   "outputs": [
    {
     "name": "stdout",
     "output_type": "stream",
     "text": [
      "<class 'pandas.core.frame.DataFrame'>\n",
      "RangeIndex: 30000 entries, 0 to 29999\n",
      "Data columns (total 25 columns):\n",
      " #   Column                      Non-Null Count  Dtype \n",
      "---  ------                      --------------  ----- \n",
      " 0   id                          30000 non-null  int64 \n",
      " 1   limit_bal                   30000 non-null  int64 \n",
      " 2   sex                         30000 non-null  object\n",
      " 3   education                   30000 non-null  object\n",
      " 4   marriage                    30000 non-null  object\n",
      " 5   age                         30000 non-null  int64 \n",
      " 6   payment_status_sep          30000 non-null  int64 \n",
      " 7   payment_status_aug          30000 non-null  int64 \n",
      " 8   payment_status_jul          30000 non-null  int64 \n",
      " 9   payment_status_jun          30000 non-null  int64 \n",
      " 10  payment_status_may          30000 non-null  int64 \n",
      " 11  payment_status_apr          30000 non-null  int64 \n",
      " 12  bill_statement_sep          30000 non-null  int64 \n",
      " 13  bill_statement_aug          30000 non-null  int64 \n",
      " 14  bill_statement_jul          30000 non-null  int64 \n",
      " 15  bill_statement_jun          30000 non-null  int64 \n",
      " 16  bill_statement_may          30000 non-null  int64 \n",
      " 17  bill_statement_apr          30000 non-null  int64 \n",
      " 18  previous_payment_sep        30000 non-null  int64 \n",
      " 19  previous_payment_aug        30000 non-null  int64 \n",
      " 20  previous_payment_jul        30000 non-null  int64 \n",
      " 21  previous_payment_jun        30000 non-null  int64 \n",
      " 22  previous_payment_may        30000 non-null  int64 \n",
      " 23  previous_payment_apr        30000 non-null  int64 \n",
      " 24  default_payment_next_month  30000 non-null  int64 \n",
      "dtypes: int64(22), object(3)\n",
      "memory usage: 5.7+ MB\n"
     ]
    }
   ],
   "source": [
    "data_path = r'C:\\Users\\nmako\\OneDrive\\Documents\\Data-Science-Projects-Repository\\Machine Learning TP\\Application-ML-Detection-Defauts-Paiements-Credits-Bancaires\\data\\raw\\credit_card_default.csv'\n",
    "data = pd.read_csv(data_path)\n",
    "df = data.copy()\n",
    "df.info()"
   ]
  },
  {
   "cell_type": "code",
   "execution_count": null,
   "id": "27d5bc1e",
   "metadata": {},
   "outputs": [],
   "source": []
  }
 ],
 "metadata": {
  "kernelspec": {
   "display_name": "Python [conda env:base] *",
   "language": "python",
   "name": "conda-base-py"
  },
  "language_info": {
   "codemirror_mode": {
    "name": "ipython",
    "version": 3
   },
   "file_extension": ".py",
   "mimetype": "text/x-python",
   "name": "python",
   "nbconvert_exporter": "python",
   "pygments_lexer": "ipython3",
   "version": "3.12.7"
  }
 },
 "nbformat": 4,
 "nbformat_minor": 5
}
